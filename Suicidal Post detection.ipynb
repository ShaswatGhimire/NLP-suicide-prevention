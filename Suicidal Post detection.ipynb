{
 "cells": [
  {
   "cell_type": "code",
   "execution_count": 1,
   "id": "b746855c",
   "metadata": {},
   "outputs": [
    {
     "name": "stderr",
     "output_type": "stream",
     "text": [
      "[nltk_data] Downloading package stopwords to\n",
      "[nltk_data]     C:\\Users\\hp\\AppData\\Roaming\\nltk_data...\n",
      "[nltk_data]   Package stopwords is already up-to-date!\n",
      "[nltk_data] Downloading package wordnet to\n",
      "[nltk_data]     C:\\Users\\hp\\AppData\\Roaming\\nltk_data...\n",
      "[nltk_data]   Package wordnet is already up-to-date!\n"
     ]
    },
    {
     "data": {
      "text/plain": [
       "True"
      ]
     },
     "execution_count": 1,
     "metadata": {},
     "output_type": "execute_result"
    }
   ],
   "source": [
    "import numpy as np\n",
    "import pandas as pd\n",
    "import seaborn as sns\n",
    "import matplotlib.pyplot as plt\n",
    "\n",
    "import re\n",
    "import nltk\n",
    "\n",
    "from nltk.stem import WordNetLemmatizer, PorterStemmer\n",
    "from sklearn.feature_extraction.text import CountVectorizer\n",
    "from nltk.corpus import stopwords\n",
    "from sklearn.feature_extraction.text import TfidfVectorizer\n",
    "\n",
    "\n",
    "from sklearn.preprocessing import LabelEncoder, OneHotEncoder\n",
    "\n",
    "from sklearn.model_selection import train_test_split\n",
    "\n",
    "from xgboost import XGBClassifier\n",
    "from sklearn.metrics import accuracy_score, mean_squared_error, mean_absolute_error\n",
    "from sklearn.ensemble import RandomForestClassifier\n",
    "\n",
    "from sklearn.metrics import confusion_matrix, classification_report\n",
    "from joblib import dump, load\n",
    "\n",
    "\n",
    "nltk.download('stopwords')\n",
    "nltk.download('wordnet')"
   ]
  },
  {
   "cell_type": "code",
   "execution_count": 2,
   "id": "5a23b30a",
   "metadata": {},
   "outputs": [],
   "source": [
    "file = 'Suicide_Ideation_Dataset(Twitter-based).csv'\n",
    "df = pd.read_csv(file)"
   ]
  },
  {
   "cell_type": "code",
   "execution_count": 3,
   "id": "d7c20f10",
   "metadata": {},
   "outputs": [
    {
     "data": {
      "text/html": [
       "<div>\n",
       "<style scoped>\n",
       "    .dataframe tbody tr th:only-of-type {\n",
       "        vertical-align: middle;\n",
       "    }\n",
       "\n",
       "    .dataframe tbody tr th {\n",
       "        vertical-align: top;\n",
       "    }\n",
       "\n",
       "    .dataframe thead th {\n",
       "        text-align: right;\n",
       "    }\n",
       "</style>\n",
       "<table border=\"1\" class=\"dataframe\">\n",
       "  <thead>\n",
       "    <tr style=\"text-align: right;\">\n",
       "      <th></th>\n",
       "      <th>Tweet</th>\n",
       "      <th>Suicide</th>\n",
       "    </tr>\n",
       "  </thead>\n",
       "  <tbody>\n",
       "    <tr>\n",
       "      <th>0</th>\n",
       "      <td>making some lunch</td>\n",
       "      <td>Not Suicide post</td>\n",
       "    </tr>\n",
       "    <tr>\n",
       "      <th>1</th>\n",
       "      <td>@Alexia You want his money.</td>\n",
       "      <td>Not Suicide post</td>\n",
       "    </tr>\n",
       "    <tr>\n",
       "      <th>2</th>\n",
       "      <td>@dizzyhrvy that crap took me forever to put to...</td>\n",
       "      <td>Potential Suicide post</td>\n",
       "    </tr>\n",
       "    <tr>\n",
       "      <th>3</th>\n",
       "      <td>@jnaylor #kiwitweets Hey Jer! Since when did y...</td>\n",
       "      <td>Not Suicide post</td>\n",
       "    </tr>\n",
       "    <tr>\n",
       "      <th>4</th>\n",
       "      <td>Trying out &amp;quot;Delicious Library 2&amp;quot; wit...</td>\n",
       "      <td>Not Suicide post</td>\n",
       "    </tr>\n",
       "  </tbody>\n",
       "</table>\n",
       "</div>"
      ],
      "text/plain": [
       "                                               Tweet                  Suicide\n",
       "0                                  making some lunch         Not Suicide post\n",
       "1                        @Alexia You want his money.         Not Suicide post\n",
       "2  @dizzyhrvy that crap took me forever to put to...  Potential Suicide post \n",
       "3  @jnaylor #kiwitweets Hey Jer! Since when did y...         Not Suicide post\n",
       "4  Trying out &quot;Delicious Library 2&quot; wit...         Not Suicide post"
      ]
     },
     "execution_count": 3,
     "metadata": {},
     "output_type": "execute_result"
    }
   ],
   "source": [
    "df.head()"
   ]
  },
  {
   "cell_type": "code",
   "execution_count": 4,
   "id": "8693aee0",
   "metadata": {},
   "outputs": [
    {
     "data": {
      "text/html": [
       "<div>\n",
       "<style scoped>\n",
       "    .dataframe tbody tr th:only-of-type {\n",
       "        vertical-align: middle;\n",
       "    }\n",
       "\n",
       "    .dataframe tbody tr th {\n",
       "        vertical-align: top;\n",
       "    }\n",
       "\n",
       "    .dataframe thead th {\n",
       "        text-align: right;\n",
       "    }\n",
       "</style>\n",
       "<table border=\"1\" class=\"dataframe\">\n",
       "  <thead>\n",
       "    <tr style=\"text-align: right;\">\n",
       "      <th></th>\n",
       "      <th>Tweet</th>\n",
       "      <th>Suicide</th>\n",
       "    </tr>\n",
       "  </thead>\n",
       "  <tbody>\n",
       "    <tr>\n",
       "      <th>count</th>\n",
       "      <td>1785</td>\n",
       "      <td>1787</td>\n",
       "    </tr>\n",
       "    <tr>\n",
       "      <th>unique</th>\n",
       "      <td>1777</td>\n",
       "      <td>2</td>\n",
       "    </tr>\n",
       "    <tr>\n",
       "      <th>top</th>\n",
       "      <td>AFTER EFFECTS HAS FROZEN AND I DID NOT I REPEA...</td>\n",
       "      <td>Not Suicide post</td>\n",
       "    </tr>\n",
       "    <tr>\n",
       "      <th>freq</th>\n",
       "      <td>2</td>\n",
       "      <td>1127</td>\n",
       "    </tr>\n",
       "  </tbody>\n",
       "</table>\n",
       "</div>"
      ],
      "text/plain": [
       "                                                    Tweet           Suicide\n",
       "count                                                1785              1787\n",
       "unique                                               1777                 2\n",
       "top     AFTER EFFECTS HAS FROZEN AND I DID NOT I REPEA...  Not Suicide post\n",
       "freq                                                    2              1127"
      ]
     },
     "execution_count": 4,
     "metadata": {},
     "output_type": "execute_result"
    }
   ],
   "source": [
    "df.describe()"
   ]
  },
  {
   "cell_type": "code",
   "execution_count": 5,
   "id": "e4ce07d5",
   "metadata": {},
   "outputs": [
    {
     "name": "stdout",
     "output_type": "stream",
     "text": [
      "<class 'pandas.core.frame.DataFrame'>\n",
      "RangeIndex: 1787 entries, 0 to 1786\n",
      "Data columns (total 2 columns):\n",
      " #   Column   Non-Null Count  Dtype \n",
      "---  ------   --------------  ----- \n",
      " 0   Tweet    1785 non-null   object\n",
      " 1   Suicide  1787 non-null   object\n",
      "dtypes: object(2)\n",
      "memory usage: 28.0+ KB\n"
     ]
    }
   ],
   "source": [
    "df.info()"
   ]
  },
  {
   "cell_type": "code",
   "execution_count": 6,
   "id": "20aeb9b5",
   "metadata": {},
   "outputs": [
    {
     "data": {
      "text/plain": [
       "Tweet      2\n",
       "Suicide    0\n",
       "dtype: int64"
      ]
     },
     "execution_count": 6,
     "metadata": {},
     "output_type": "execute_result"
    }
   ],
   "source": [
    "df.isnull().sum()"
   ]
  },
  {
   "cell_type": "code",
   "execution_count": 7,
   "id": "7806b22f",
   "metadata": {},
   "outputs": [],
   "source": [
    "df = df.dropna()"
   ]
  },
  {
   "cell_type": "code",
   "execution_count": 8,
   "id": "573e6d97",
   "metadata": {},
   "outputs": [
    {
     "data": {
      "text/plain": [
       "Tweet      0\n",
       "Suicide    0\n",
       "dtype: int64"
      ]
     },
     "execution_count": 8,
     "metadata": {},
     "output_type": "execute_result"
    }
   ],
   "source": [
    "df.isnull().sum()"
   ]
  },
  {
   "cell_type": "code",
   "execution_count": 9,
   "id": "ced3f50a",
   "metadata": {},
   "outputs": [],
   "source": [
    "def plot_sns_countplot(df, column_name):\n",
    "    sns.set(style=\"whitegrid\")\n",
    "    plt.figure(figsize=(12, 6))\n",
    "    sns.countplot(data=df, x=column_name, palette='pastel', edgecolor=\".6\", order=df[column_name].value_counts().index)\n",
    "    \n",
    "    plt.title(f'Categorical Countplot - {column_name}', fontsize=16)\n",
    "    plt.xlabel(column_name, fontsize=14)\n",
    "    plt.ylabel('Count', fontsize=14)\n",
    "    plt.xticks(rotation=45, ha='right')\n",
    "    plt.show()"
   ]
  },
  {
   "cell_type": "code",
   "execution_count": 10,
   "id": "9bcf029b",
   "metadata": {},
   "outputs": [
    {
     "data": {
      "image/png": "[encoded data removed]",
      "text/plain": [
       "<Figure size 864x432 with 1 Axes>"
      ]
     },
     "metadata": {},
     "output_type": "display_data"
    }
   ],
   "source": [
    "plot_sns_countplot(df, 'Suicide')"
   ]
  },
  {
   "cell_type": "code",
   "execution_count": 26,
   "id": "48f84809",
   "metadata": {},
   "outputs": [
    {
     "data": {
      "text/plain": [
       "array([[1., 0., 1., ..., 1., 0., 0.],\n",
       "       [1., 0., 1., ..., 1., 0., 0.],\n",
       "       [1., 0., 1., ..., 1., 0., 0.],\n",
       "       ...,\n",
       "       [1., 0., 1., ..., 1., 0., 0.],\n",
       "       [1., 0., 1., ..., 1., 0., 0.],\n",
       "       [1., 0., 1., ..., 1., 0., 0.]])"
      ]
     },
     "metadata": {},
     "output_type": "display_data"
    },
    {
     "data": {
      "text/html": [
       "<div>\n",
       "<style scoped>\n",
       "    .dataframe tbody tr th:only-of-type {\n",
       "        vertical-align: middle;\n",
       "    }\n",
       "\n",
       "    .dataframe tbody tr th {\n",
       "        vertical-align: top;\n",
       "    }\n",
       "\n",
       "    .dataframe thead th {\n",
       "        text-align: right;\n",
       "    }\n",
       "</style>\n",
       "<table border=\"1\" class=\"dataframe\">\n",
       "  <thead>\n",
       "    <tr style=\"text-align: right;\">\n",
       "      <th></th>\n",
       "      <th>Tweet</th>\n",
       "      <th>Suicide</th>\n",
       "      <th>Processed_Text</th>\n",
       "      <th>Tokenized_Text</th>\n",
       "      <th>Lemmatized_Text</th>\n",
       "      <th>Stemmed_Text</th>\n",
       "      <th>Vectorized_Text</th>\n",
       "      <th>target</th>\n",
       "    </tr>\n",
       "  </thead>\n",
       "  <tbody>\n",
       "    <tr>\n",
       "      <th>0</th>\n",
       "      <td>making some lunch</td>\n",
       "      <td>Not Suicide post</td>\n",
       "      <td>making some lunch</td>\n",
       "      <td>[making, some, lunch]</td>\n",
       "      <td>[making, some, lunch]</td>\n",
       "      <td>[make, some, lunch]</td>\n",
       "      <td>[1.0, 0.0, 1.0, 0.0, 1.0, 0.0, 1.0, 0.0, 1.0, ...</td>\n",
       "      <td>0</td>\n",
       "    </tr>\n",
       "    <tr>\n",
       "      <th>1</th>\n",
       "      <td>@Alexia You want his money.</td>\n",
       "      <td>Not Suicide post</td>\n",
       "      <td>You want his money</td>\n",
       "      <td>[You, want, his, money]</td>\n",
       "      <td>[You, want, his, money]</td>\n",
       "      <td>[you, want, hi, money]</td>\n",
       "      <td>[1.0, 0.0, 1.0, 0.0, 1.0, 0.0, 1.0, 0.0, 1.0, ...</td>\n",
       "      <td>0</td>\n",
       "    </tr>\n",
       "    <tr>\n",
       "      <th>2</th>\n",
       "      <td>@dizzyhrvy that crap took me forever to put to...</td>\n",
       "      <td>Potential Suicide post</td>\n",
       "      <td>that crap took me forever   put together im g...</td>\n",
       "      <td>[that, crap, took, me, forever, put, together,...</td>\n",
       "      <td>[that, crap, took, me, forever, put, together,...</td>\n",
       "      <td>[that, crap, took, me, forev, put, togeth, im,...</td>\n",
       "      <td>[1.0, 0.0, 1.0, 0.0, 1.0, 0.0, 1.0, 0.0, 1.0, ...</td>\n",
       "      <td>1</td>\n",
       "    </tr>\n",
       "    <tr>\n",
       "      <th>3</th>\n",
       "      <td>@jnaylor #kiwitweets Hey Jer! Since when did y...</td>\n",
       "      <td>Not Suicide post</td>\n",
       "      <td>kiwitweets Hey Jer Since when did you start t...</td>\n",
       "      <td>[kiwitweets, Hey, Jer, Since, when, did, you, ...</td>\n",
       "      <td>[kiwitweets, Hey, Jer, Since, when, did, you, ...</td>\n",
       "      <td>[kiwitweet, hey, jer, sinc, when, did, you, st...</td>\n",
       "      <td>[1.0, 0.0, 1.0, 0.0, 1.0, 0.0, 1.0, 0.0, 1.0, ...</td>\n",
       "      <td>0</td>\n",
       "    </tr>\n",
       "    <tr>\n",
       "      <th>4</th>\n",
       "      <td>Trying out &amp;quot;Delicious Library 2&amp;quot; wit...</td>\n",
       "      <td>Not Suicide post</td>\n",
       "      <td>Trying out quotDelicious Library quot   mixed ...</td>\n",
       "      <td>[Trying, out, quotDelicious, Library, quot, mi...</td>\n",
       "      <td>[Trying, out, quotDelicious, Library, quot, mi...</td>\n",
       "      <td>[tri, out, quotdelici, librari, quot, mix, res...</td>\n",
       "      <td>[1.0, 0.0, 1.0, 0.0, 1.0, 0.0, 1.0, 0.0, 1.0, ...</td>\n",
       "      <td>0</td>\n",
       "    </tr>\n",
       "    <tr>\n",
       "      <th>...</th>\n",
       "      <td>...</td>\n",
       "      <td>...</td>\n",
       "      <td>...</td>\n",
       "      <td>...</td>\n",
       "      <td>...</td>\n",
       "      <td>...</td>\n",
       "      <td>...</td>\n",
       "      <td>...</td>\n",
       "    </tr>\n",
       "    <tr>\n",
       "      <th>1782</th>\n",
       "      <td>i have forgotten how much i love my Nokia N95-1</td>\n",
       "      <td>Not Suicide post</td>\n",
       "      <td>i have forgotten how much i love my Nokia N</td>\n",
       "      <td>[i, have, forgotten, how, much, i, love, my, N...</td>\n",
       "      <td>[i, have, forgotten, how, much, i, love, my, N...</td>\n",
       "      <td>[i, have, forgotten, how, much, i, love, my, n...</td>\n",
       "      <td>[1.0, 0.0, 1.0, 0.0, 1.0, 0.0, 1.0, 0.0, 1.0, ...</td>\n",
       "      <td>0</td>\n",
       "    </tr>\n",
       "    <tr>\n",
       "      <th>1783</th>\n",
       "      <td>Starting my day out with a positive attitude! ...</td>\n",
       "      <td>Not Suicide post</td>\n",
       "      <td>Starting my day out     positive attitude   be...</td>\n",
       "      <td>[Starting, my, day, out, positive, attitude, b...</td>\n",
       "      <td>[Starting, my, day, out, positive, attitude, b...</td>\n",
       "      <td>[start, my, day, out, posit, attitud, be, grea...</td>\n",
       "      <td>[1.0, 0.0, 1.0, 0.0, 1.0, 0.0, 1.0, 0.0, 1.0, ...</td>\n",
       "      <td>0</td>\n",
       "    </tr>\n",
       "    <tr>\n",
       "      <th>1784</th>\n",
       "      <td>@belledame222 Hey, it's 5 am...give a girl som...</td>\n",
       "      <td>Not Suicide post</td>\n",
       "      <td>Hey its  amgive   girl some credit   trying</td>\n",
       "      <td>[Hey, its, amgive, girl, some, credit, trying]</td>\n",
       "      <td>[Hey, it, amgive, girl, some, credit, trying]</td>\n",
       "      <td>[hey, it, amgiv, girl, some, credit, tri]</td>\n",
       "      <td>[1.0, 0.0, 1.0, 0.0, 1.0, 0.0, 1.0, 0.0, 1.0, ...</td>\n",
       "      <td>0</td>\n",
       "    </tr>\n",
       "    <tr>\n",
       "      <th>1785</th>\n",
       "      <td>2 drunken besties stumble into my room and we ...</td>\n",
       "      <td>Not Suicide post</td>\n",
       "      <td>drunken besties stumble into my room   we run...</td>\n",
       "      <td>[drunken, besties, stumble, into, my, room, we...</td>\n",
       "      <td>[drunken, besties, stumble, into, my, room, we...</td>\n",
       "      <td>[drunken, besti, stumbl, into, my, room, we, r...</td>\n",
       "      <td>[1.0, 0.0, 1.0, 0.0, 1.0, 0.0, 1.0, 0.0, 1.0, ...</td>\n",
       "      <td>0</td>\n",
       "    </tr>\n",
       "    <tr>\n",
       "      <th>1786</th>\n",
       "      <td>@dancingbonita &amp;quot;I friggin love you!!!&amp;quo...</td>\n",
       "      <td>Not Suicide post</td>\n",
       "      <td>quotI friggin love youquot Ron Burgundy ridin...</td>\n",
       "      <td>[quotI, friggin, love, youquot, Ron, Burgundy,...</td>\n",
       "      <td>[quotI, friggin, love, youquot, Ron, Burgundy,...</td>\n",
       "      <td>[quoti, friggin, love, youquot, ron, burgundi,...</td>\n",
       "      <td>[1.0, 0.0, 1.0, 0.0, 1.0, 0.0, 1.0, 0.0, 1.0, ...</td>\n",
       "      <td>0</td>\n",
       "    </tr>\n",
       "  </tbody>\n",
       "</table>\n",
       "<p>1785 rows × 8 columns</p>\n",
       "</div>"
      ],
      "text/plain": [
       "                                                  Tweet  \\\n",
       "0                                     making some lunch   \n",
       "1                           @Alexia You want his money.   \n",
       "2     @dizzyhrvy that crap took me forever to put to...   \n",
       "3     @jnaylor #kiwitweets Hey Jer! Since when did y...   \n",
       "4     Trying out &quot;Delicious Library 2&quot; wit...   \n",
       "...                                                 ...   \n",
       "1782    i have forgotten how much i love my Nokia N95-1   \n",
       "1783  Starting my day out with a positive attitude! ...   \n",
       "1784  @belledame222 Hey, it's 5 am...give a girl som...   \n",
       "1785  2 drunken besties stumble into my room and we ...   \n",
       "1786  @dancingbonita &quot;I friggin love you!!!&quo...   \n",
       "\n",
       "                      Suicide  \\\n",
       "0            Not Suicide post   \n",
       "1            Not Suicide post   \n",
       "2     Potential Suicide post    \n",
       "3            Not Suicide post   \n",
       "4            Not Suicide post   \n",
       "...                       ...   \n",
       "1782         Not Suicide post   \n",
       "1783         Not Suicide post   \n",
       "1784         Not Suicide post   \n",
       "1785         Not Suicide post   \n",
       "1786         Not Suicide post   \n",
       "\n",
       "                                         Processed_Text  \\\n",
       "0                                     making some lunch   \n",
       "1                                    You want his money   \n",
       "2      that crap took me forever   put together im g...   \n",
       "3      kiwitweets Hey Jer Since when did you start t...   \n",
       "4     Trying out quotDelicious Library quot   mixed ...   \n",
       "...                                                 ...   \n",
       "1782        i have forgotten how much i love my Nokia N   \n",
       "1783  Starting my day out     positive attitude   be...   \n",
       "1784        Hey its  amgive   girl some credit   trying   \n",
       "1785   drunken besties stumble into my room   we run...   \n",
       "1786   quotI friggin love youquot Ron Burgundy ridin...   \n",
       "\n",
       "                                         Tokenized_Text  \\\n",
       "0                                 [making, some, lunch]   \n",
       "1                               [You, want, his, money]   \n",
       "2     [that, crap, took, me, forever, put, together,...   \n",
       "3     [kiwitweets, Hey, Jer, Since, when, did, you, ...   \n",
       "4     [Trying, out, quotDelicious, Library, quot, mi...   \n",
       "...                                                 ...   \n",
       "1782  [i, have, forgotten, how, much, i, love, my, N...   \n",
       "1783  [Starting, my, day, out, positive, attitude, b...   \n",
       "1784     [Hey, its, amgive, girl, some, credit, trying]   \n",
       "1785  [drunken, besties, stumble, into, my, room, we...   \n",
       "1786  [quotI, friggin, love, youquot, Ron, Burgundy,...   \n",
       "\n",
       "                                        Lemmatized_Text  \\\n",
       "0                                 [making, some, lunch]   \n",
       "1                               [You, want, his, money]   \n",
       "2     [that, crap, took, me, forever, put, together,...   \n",
       "3     [kiwitweets, Hey, Jer, Since, when, did, you, ...   \n",
       "4     [Trying, out, quotDelicious, Library, quot, mi...   \n",
       "...                                                 ...   \n",
       "1782  [i, have, forgotten, how, much, i, love, my, N...   \n",
       "1783  [Starting, my, day, out, positive, attitude, b...   \n",
       "1784      [Hey, it, amgive, girl, some, credit, trying]   \n",
       "1785  [drunken, besties, stumble, into, my, room, we...   \n",
       "1786  [quotI, friggin, love, youquot, Ron, Burgundy,...   \n",
       "\n",
       "                                           Stemmed_Text  \\\n",
       "0                                   [make, some, lunch]   \n",
       "1                                [you, want, hi, money]   \n",
       "2     [that, crap, took, me, forev, put, togeth, im,...   \n",
       "3     [kiwitweet, hey, jer, sinc, when, did, you, st...   \n",
       "4     [tri, out, quotdelici, librari, quot, mix, res...   \n",
       "...                                                 ...   \n",
       "1782  [i, have, forgotten, how, much, i, love, my, n...   \n",
       "1783  [start, my, day, out, posit, attitud, be, grea...   \n",
       "1784          [hey, it, amgiv, girl, some, credit, tri]   \n",
       "1785  [drunken, besti, stumbl, into, my, room, we, r...   \n",
       "1786  [quoti, friggin, love, youquot, ron, burgundi,...   \n",
       "\n",
       "                                        Vectorized_Text  target  \n",
       "0     [1.0, 0.0, 1.0, 0.0, 1.0, 0.0, 1.0, 0.0, 1.0, ...       0  \n",
       "1     [1.0, 0.0, 1.0, 0.0, 1.0, 0.0, 1.0, 0.0, 1.0, ...       0  \n",
       "2     [1.0, 0.0, 1.0, 0.0, 1.0, 0.0, 1.0, 0.0, 1.0, ...       1  \n",
       "3     [1.0, 0.0, 1.0, 0.0, 1.0, 0.0, 1.0, 0.0, 1.0, ...       0  \n",
       "4     [1.0, 0.0, 1.0, 0.0, 1.0, 0.0, 1.0, 0.0, 1.0, ...       0  \n",
       "...                                                 ...     ...  \n",
       "1782  [1.0, 0.0, 1.0, 0.0, 1.0, 0.0, 1.0, 0.0, 1.0, ...       0  \n",
       "1783  [1.0, 0.0, 1.0, 0.0, 1.0, 0.0, 1.0, 0.0, 1.0, ...       0  \n",
       "1784  [1.0, 0.0, 1.0, 0.0, 1.0, 0.0, 1.0, 0.0, 1.0, ...       0  \n",
       "1785  [1.0, 0.0, 1.0, 0.0, 1.0, 0.0, 1.0, 0.0, 1.0, ...       0  \n",
       "1786  [1.0, 0.0, 1.0, 0.0, 1.0, 0.0, 1.0, 0.0, 1.0, ...       0  \n",
       "\n",
       "[1785 rows x 8 columns]"
      ]
     },
     "metadata": {},
     "output_type": "display_data"
    }
   ],
   "source": [
    "def process_text_column(df, column_name='Tweet'):\n",
    "    # Define preprocessor\n",
    "    def preprocessor(text):\n",
    "        #removing anything after @ as its just the username\n",
    "        text = re.sub(r'@[^\\s]+', '', text)\n",
    "        text = re.sub(r'[^a-zA-Z\\s]', '', text)\n",
    "        text = re.sub(r'\\b(?:the|and|is|it|of|in|to|for|with|on|at|by|this|an|a)\\b', ' ', text, flags=re.IGNORECASE)\n",
    "        return text\n",
    "\n",
    "    # Define tokenizer\n",
    "    def tokenizer(text):\n",
    "        return text.split()\n",
    "\n",
    "    # Define lemmatizer\n",
    "    def lemmatizer(tokens):\n",
    "        lemmatizer = WordNetLemmatizer()\n",
    "        return [lemmatizer.lemmatize(token) for token in tokens]\n",
    "\n",
    "    # Define Porter Stemmer\n",
    "    def porter_stemmer(tokens):\n",
    "        stemmer = PorterStemmer()\n",
    "        return [stemmer.stem(token) for token in tokens]\n",
    "\n",
    "    # Define vectorizer\n",
    "    def vectorizer(texts):\n",
    "        tfidf_vectorizer = TfidfVectorizer(stop_words=stopwords.words('english'))\n",
    "        X_tfidf = tfidf_vectorizer.fit_transform(texts).toarray()\n",
    "        onehot_encoder = OneHotEncoder()\n",
    "        X_onehot = onehot_encoder.fit_transform(X_tfidf).toarray()\n",
    "        display(X_onehot)\n",
    "        return X_onehot\n",
    "\n",
    "\n",
    "    # Apply preprocessing\n",
    "    df['Processed_Text'] = df[column_name].apply(preprocessor)\n",
    "\n",
    "    # Tokenize\n",
    "    df['Tokenized_Text'] = df['Processed_Text'].apply(tokenizer)\n",
    "\n",
    "    # Lemmatize\n",
    "    df['Lemmatized_Text'] = df['Tokenized_Text'].apply(lemmatizer)\n",
    "\n",
    "    # Porter Stemming\n",
    "    df['Stemmed_Text'] = df['Tokenized_Text'].apply(porter_stemmer)\n",
    "\n",
    "    # Vectorize\n",
    "    vectorized_documents = vectorizer(df['Processed_Text'])\n",
    "    df['Vectorized_Text'] = list(vectorized_documents)\n",
    "\n",
    "    return df\n",
    "\n",
    "# Process the 'Tweet' column\n",
    "df = process_text_column(df, column_name='Tweet')\n",
    "\n",
    "# Display the processed DataFrame\n",
    "display(df)\n"
   ]
  },
  {
   "cell_type": "code",
   "execution_count": 12,
   "id": "0c2bf83a",
   "metadata": {},
   "outputs": [],
   "source": [
    "#for Suicide column lets encode and map to 0 and 1 \n",
    "le = LabelEncoder()\n",
    "df['target'] = le.fit_transform(df['Suicide'])\n"
   ]
  },
  {
   "cell_type": "code",
   "execution_count": 13,
   "id": "ad34d843",
   "metadata": {},
   "outputs": [
    {
     "data": {
      "text/html": [
       "<div>\n",
       "<style scoped>\n",
       "    .dataframe tbody tr th:only-of-type {\n",
       "        vertical-align: middle;\n",
       "    }\n",
       "\n",
       "    .dataframe tbody tr th {\n",
       "        vertical-align: top;\n",
       "    }\n",
       "\n",
       "    .dataframe thead th {\n",
       "        text-align: right;\n",
       "    }\n",
       "</style>\n",
       "<table border=\"1\" class=\"dataframe\">\n",
       "  <thead>\n",
       "    <tr style=\"text-align: right;\">\n",
       "      <th></th>\n",
       "      <th>Tweet</th>\n",
       "      <th>Suicide</th>\n",
       "      <th>Processed_Text</th>\n",
       "      <th>Tokenized_Text</th>\n",
       "      <th>Lemmatized_Text</th>\n",
       "      <th>Stemmed_Text</th>\n",
       "      <th>Vectorized_Text</th>\n",
       "      <th>target</th>\n",
       "    </tr>\n",
       "  </thead>\n",
       "  <tbody>\n",
       "    <tr>\n",
       "      <th>0</th>\n",
       "      <td>making some lunch</td>\n",
       "      <td>Not Suicide post</td>\n",
       "      <td>making some lunch</td>\n",
       "      <td>[making, some, lunch]</td>\n",
       "      <td>[making, some, lunch]</td>\n",
       "      <td>[make, some, lunch]</td>\n",
       "      <td>[1.0, 0.0, 1.0, 0.0, 1.0, 0.0, 1.0, 0.0, 1.0, ...</td>\n",
       "      <td>0</td>\n",
       "    </tr>\n",
       "    <tr>\n",
       "      <th>1</th>\n",
       "      <td>@Alexia You want his money.</td>\n",
       "      <td>Not Suicide post</td>\n",
       "      <td>You want his money</td>\n",
       "      <td>[You, want, his, money]</td>\n",
       "      <td>[You, want, his, money]</td>\n",
       "      <td>[you, want, hi, money]</td>\n",
       "      <td>[1.0, 0.0, 1.0, 0.0, 1.0, 0.0, 1.0, 0.0, 1.0, ...</td>\n",
       "      <td>0</td>\n",
       "    </tr>\n",
       "    <tr>\n",
       "      <th>2</th>\n",
       "      <td>@dizzyhrvy that crap took me forever to put to...</td>\n",
       "      <td>Potential Suicide post</td>\n",
       "      <td>that crap took me forever   put together im g...</td>\n",
       "      <td>[that, crap, took, me, forever, put, together,...</td>\n",
       "      <td>[that, crap, took, me, forever, put, together,...</td>\n",
       "      <td>[that, crap, took, me, forev, put, togeth, im,...</td>\n",
       "      <td>[1.0, 0.0, 1.0, 0.0, 1.0, 0.0, 1.0, 0.0, 1.0, ...</td>\n",
       "      <td>1</td>\n",
       "    </tr>\n",
       "    <tr>\n",
       "      <th>3</th>\n",
       "      <td>@jnaylor #kiwitweets Hey Jer! Since when did y...</td>\n",
       "      <td>Not Suicide post</td>\n",
       "      <td>kiwitweets Hey Jer Since when did you start t...</td>\n",
       "      <td>[kiwitweets, Hey, Jer, Since, when, did, you, ...</td>\n",
       "      <td>[kiwitweets, Hey, Jer, Since, when, did, you, ...</td>\n",
       "      <td>[kiwitweet, hey, jer, sinc, when, did, you, st...</td>\n",
       "      <td>[1.0, 0.0, 1.0, 0.0, 1.0, 0.0, 1.0, 0.0, 1.0, ...</td>\n",
       "      <td>0</td>\n",
       "    </tr>\n",
       "    <tr>\n",
       "      <th>4</th>\n",
       "      <td>Trying out &amp;quot;Delicious Library 2&amp;quot; wit...</td>\n",
       "      <td>Not Suicide post</td>\n",
       "      <td>Trying out quotDelicious Library quot   mixed ...</td>\n",
       "      <td>[Trying, out, quotDelicious, Library, quot, mi...</td>\n",
       "      <td>[Trying, out, quotDelicious, Library, quot, mi...</td>\n",
       "      <td>[tri, out, quotdelici, librari, quot, mix, res...</td>\n",
       "      <td>[1.0, 0.0, 1.0, 0.0, 1.0, 0.0, 1.0, 0.0, 1.0, ...</td>\n",
       "      <td>0</td>\n",
       "    </tr>\n",
       "  </tbody>\n",
       "</table>\n",
       "</div>"
      ],
      "text/plain": [
       "                                               Tweet                  Suicide  \\\n",
       "0                                  making some lunch         Not Suicide post   \n",
       "1                        @Alexia You want his money.         Not Suicide post   \n",
       "2  @dizzyhrvy that crap took me forever to put to...  Potential Suicide post    \n",
       "3  @jnaylor #kiwitweets Hey Jer! Since when did y...         Not Suicide post   \n",
       "4  Trying out &quot;Delicious Library 2&quot; wit...         Not Suicide post   \n",
       "\n",
       "                                      Processed_Text  \\\n",
       "0                                  making some lunch   \n",
       "1                                 You want his money   \n",
       "2   that crap took me forever   put together im g...   \n",
       "3   kiwitweets Hey Jer Since when did you start t...   \n",
       "4  Trying out quotDelicious Library quot   mixed ...   \n",
       "\n",
       "                                      Tokenized_Text  \\\n",
       "0                              [making, some, lunch]   \n",
       "1                            [You, want, his, money]   \n",
       "2  [that, crap, took, me, forever, put, together,...   \n",
       "3  [kiwitweets, Hey, Jer, Since, when, did, you, ...   \n",
       "4  [Trying, out, quotDelicious, Library, quot, mi...   \n",
       "\n",
       "                                     Lemmatized_Text  \\\n",
       "0                              [making, some, lunch]   \n",
       "1                            [You, want, his, money]   \n",
       "2  [that, crap, took, me, forever, put, together,...   \n",
       "3  [kiwitweets, Hey, Jer, Since, when, did, you, ...   \n",
       "4  [Trying, out, quotDelicious, Library, quot, mi...   \n",
       "\n",
       "                                        Stemmed_Text  \\\n",
       "0                                [make, some, lunch]   \n",
       "1                             [you, want, hi, money]   \n",
       "2  [that, crap, took, me, forev, put, togeth, im,...   \n",
       "3  [kiwitweet, hey, jer, sinc, when, did, you, st...   \n",
       "4  [tri, out, quotdelici, librari, quot, mix, res...   \n",
       "\n",
       "                                     Vectorized_Text  target  \n",
       "0  [1.0, 0.0, 1.0, 0.0, 1.0, 0.0, 1.0, 0.0, 1.0, ...       0  \n",
       "1  [1.0, 0.0, 1.0, 0.0, 1.0, 0.0, 1.0, 0.0, 1.0, ...       0  \n",
       "2  [1.0, 0.0, 1.0, 0.0, 1.0, 0.0, 1.0, 0.0, 1.0, ...       1  \n",
       "3  [1.0, 0.0, 1.0, 0.0, 1.0, 0.0, 1.0, 0.0, 1.0, ...       0  \n",
       "4  [1.0, 0.0, 1.0, 0.0, 1.0, 0.0, 1.0, 0.0, 1.0, ...       0  "
      ]
     },
     "execution_count": 13,
     "metadata": {},
     "output_type": "execute_result"
    }
   ],
   "source": [
    "df.head()"
   ]
  },
  {
   "cell_type": "code",
   "execution_count": 14,
   "id": "45570c31",
   "metadata": {},
   "outputs": [
    {
     "data": {
      "text/plain": [
       "array([[1., 0., 1., ..., 1., 0., 0.],\n",
       "       [1., 0., 1., ..., 1., 0., 0.],\n",
       "       [1., 0., 1., ..., 1., 0., 0.],\n",
       "       ...,\n",
       "       [1., 0., 1., ..., 1., 0., 0.],\n",
       "       [1., 0., 1., ..., 1., 0., 0.],\n",
       "       [1., 0., 1., ..., 1., 0., 0.]])"
      ]
     },
     "metadata": {},
     "output_type": "display_data"
    }
   ],
   "source": [
    "X = np.vstack(df['Vectorized_Text'].to_numpy())\n",
    "X_train, X_test, y_train, y_test = train_test_split(X, df['target'], test_size = 0.2, random_state = 0)\n",
    "display(X_train)"
   ]
  },
  {
   "cell_type": "code",
   "execution_count": 37,
   "id": "cad5a223",
   "metadata": {},
   "outputs": [],
   "source": [
    "def rf_clf(X_train, X_test, y_train , y_test):\n",
    "    # Instantiate XGBClassifier\n",
    "    model =  RandomForestClassifier(n_estimators=100, random_state=42)\n",
    "\n",
    "    # Fit the model to the training data\n",
    "    model.fit(X_train, y_train)\n",
    "\n",
    "    # Make predictions on the test set\n",
    "    \n",
    "    y_pred = model.predict(X_test)\n",
    "\n",
    "    # Evaluate the accuracy\n",
    "    accuracy = accuracy_score(y_test, y_pred)\n",
    "    print(f\"Accuracy: {accuracy}\")\n",
    "    cm = confusion_matrix(y_test, y_pred)\n",
    "\n",
    "    # Print the confusion matrix\n",
    "    print(\"Confusion Matrix:\")\n",
    "    print(cm)\n",
    "\n",
    "    # Calculate and print classification report\n",
    "    report = classification_report(y_test, y_pred)\n",
    "    print(\"\\nClassification Report:\")\n",
    "    print(report)\n",
    "    \n",
    "    return model"
   ]
  },
  {
   "cell_type": "code",
   "execution_count": 38,
   "id": "4a062ee1",
   "metadata": {},
   "outputs": [],
   "source": [
    "#rf_clf(X_train, X_test, y_train, y_test)\n",
    "#xgb classifier performed better"
   ]
  },
  {
   "cell_type": "code",
   "execution_count": 39,
   "id": "33c00bb1",
   "metadata": {},
   "outputs": [
    {
     "data": {
      "text/plain": [
       "(357, 21261)"
      ]
     },
     "metadata": {},
     "output_type": "display_data"
    },
    {
     "name": "stdout",
     "output_type": "stream",
     "text": [
      "Accuracy: 0.9159663865546218\n",
      "Confusion Matrix:\n",
      "[[210   9]\n",
      " [ 21 117]]\n",
      "\n",
      "Classification Report:\n",
      "              precision    recall  f1-score   support\n",
      "\n",
      "           0       0.91      0.96      0.93       219\n",
      "           1       0.93      0.85      0.89       138\n",
      "\n",
      "    accuracy                           0.92       357\n",
      "   macro avg       0.92      0.90      0.91       357\n",
      "weighted avg       0.92      0.92      0.92       357\n",
      "\n"
     ]
    },
    {
     "data": {
      "text/plain": [
       "['xgb_clf.joblib']"
      ]
     },
     "execution_count": 39,
     "metadata": {},
     "output_type": "execute_result"
    }
   ],
   "source": [
    "model = XGBClassifier()\n",
    "\n",
    "# Fit the model to the training data\n",
    "model.fit(X_train, y_train)\n",
    "\n",
    "# Make predictions on the test set\n",
    "display(X_test.shape)\n",
    "y_pred = model.predict(X_test)\n",
    "\n",
    "# Evaluate the accuracy\n",
    "accuracy = accuracy_score(y_test, y_pred)\n",
    "print(f\"Accuracy: {accuracy}\")\n",
    "cm = confusion_matrix(y_test, y_pred)\n",
    "\n",
    "# Print the confusion matrix\n",
    "print(\"Confusion Matrix:\")\n",
    "print(cm)\n",
    "\n",
    "# Calculate and print classification report\n",
    "report = classification_report(y_test, y_pred)\n",
    "print(\"\\nClassification Report:\")\n",
    "print(report)\n",
    "dump(model, 'xgb_clf.joblib')"
   ]
  },
  {
   "cell_type": "code",
   "execution_count": 40,
   "id": "ca000aa9",
   "metadata": {},
   "outputs": [],
   "source": [
    "new_text = \"i want to die\""
   ]
  },
  {
   "cell_type": "code",
   "execution_count": 34,
   "id": "88dac23f",
   "metadata": {},
   "outputs": [
    {
     "data": {
      "text/plain": [
       "array([[1., 1.]])"
      ]
     },
     "metadata": {},
     "output_type": "display_data"
    }
   ],
   "source": [
    "new_df = pd.DataFrame({'Tweet': [new_text]})\n",
    "\n",
    "new_df = process_text_column(new_df, column_name='Tweet')\n",
    "\n",
    "X = np.vstack(new_df['Vectorized_Text'].to_numpy())"
   ]
  },
  {
   "cell_type": "code",
   "execution_count": 35,
   "id": "05b05ae2",
   "metadata": {},
   "outputs": [
    {
     "data": {
      "text/plain": [
       "(1, 2)"
      ]
     },
     "metadata": {},
     "output_type": "display_data"
    }
   ],
   "source": [
    "display(X.shape)"
   ]
  },
  {
   "cell_type": "code",
   "execution_count": 36,
   "id": "ac51b2c3",
   "metadata": {},
   "outputs": [
    {
     "ename": "ValueError",
     "evalue": "Feature shape mismatch, expected: 21261, got 2",
     "output_type": "error",
     "traceback": [
      "\u001b[1;31m---------------------------------------------------------------------------\u001b[0m",
      "\u001b[1;31mValueError\u001b[0m                                Traceback (most recent call last)",
      "\u001b[1;32m<ipython-input-36-f8c101d54f63>\u001b[0m in \u001b[0;36m<module>\u001b[1;34m\u001b[0m\n\u001b[0;32m      1\u001b[0m \u001b[1;31m#model = load('xgb_clf.joblib')\u001b[0m\u001b[1;33m\u001b[0m\u001b[1;33m\u001b[0m\u001b[1;33m\u001b[0m\u001b[0m\n\u001b[1;32m----> 2\u001b[1;33m \u001b[0mmodel\u001b[0m\u001b[1;33m.\u001b[0m\u001b[0mpredict\u001b[0m\u001b[1;33m(\u001b[0m\u001b[0mX\u001b[0m\u001b[1;33m)\u001b[0m\u001b[1;33m\u001b[0m\u001b[1;33m\u001b[0m\u001b[0m\n\u001b[0m",
      "\u001b[1;32m~\\anaconda3\\lib\\site-packages\\xgboost\\sklearn.py\u001b[0m in \u001b[0;36mpredict\u001b[1;34m(self, X, output_margin, ntree_limit, validate_features, base_margin, iteration_range)\u001b[0m\n\u001b[0;32m   1523\u001b[0m     ) -> np.ndarray:\n\u001b[0;32m   1524\u001b[0m         \u001b[1;32mwith\u001b[0m \u001b[0mconfig_context\u001b[0m\u001b[1;33m(\u001b[0m\u001b[0mverbosity\u001b[0m\u001b[1;33m=\u001b[0m\u001b[0mself\u001b[0m\u001b[1;33m.\u001b[0m\u001b[0mverbosity\u001b[0m\u001b[1;33m)\u001b[0m\u001b[1;33m:\u001b[0m\u001b[1;33m\u001b[0m\u001b[1;33m\u001b[0m\u001b[0m\n\u001b[1;32m-> 1525\u001b[1;33m             class_probs = super().predict(\n\u001b[0m\u001b[0;32m   1526\u001b[0m                 \u001b[0mX\u001b[0m\u001b[1;33m=\u001b[0m\u001b[0mX\u001b[0m\u001b[1;33m,\u001b[0m\u001b[1;33m\u001b[0m\u001b[1;33m\u001b[0m\u001b[0m\n\u001b[0;32m   1527\u001b[0m                 \u001b[0moutput_margin\u001b[0m\u001b[1;33m=\u001b[0m\u001b[0moutput_margin\u001b[0m\u001b[1;33m,\u001b[0m\u001b[1;33m\u001b[0m\u001b[1;33m\u001b[0m\u001b[0m\n",
      "\u001b[1;32m~\\anaconda3\\lib\\site-packages\\xgboost\\sklearn.py\u001b[0m in \u001b[0;36mpredict\u001b[1;34m(self, X, output_margin, ntree_limit, validate_features, base_margin, iteration_range)\u001b[0m\n\u001b[0;32m   1112\u001b[0m             \u001b[1;32mif\u001b[0m \u001b[0mself\u001b[0m\u001b[1;33m.\u001b[0m\u001b[0m_can_use_inplace_predict\u001b[0m\u001b[1;33m(\u001b[0m\u001b[1;33m)\u001b[0m\u001b[1;33m:\u001b[0m\u001b[1;33m\u001b[0m\u001b[1;33m\u001b[0m\u001b[0m\n\u001b[0;32m   1113\u001b[0m                 \u001b[1;32mtry\u001b[0m\u001b[1;33m:\u001b[0m\u001b[1;33m\u001b[0m\u001b[1;33m\u001b[0m\u001b[0m\n\u001b[1;32m-> 1114\u001b[1;33m                     predts = self.get_booster().inplace_predict(\n\u001b[0m\u001b[0;32m   1115\u001b[0m                         \u001b[0mdata\u001b[0m\u001b[1;33m=\u001b[0m\u001b[0mX\u001b[0m\u001b[1;33m,\u001b[0m\u001b[1;33m\u001b[0m\u001b[1;33m\u001b[0m\u001b[0m\n\u001b[0;32m   1116\u001b[0m                         \u001b[0miteration_range\u001b[0m\u001b[1;33m=\u001b[0m\u001b[0miteration_range\u001b[0m\u001b[1;33m,\u001b[0m\u001b[1;33m\u001b[0m\u001b[1;33m\u001b[0m\u001b[0m\n",
      "\u001b[1;32m~\\anaconda3\\lib\\site-packages\\xgboost\\core.py\u001b[0m in \u001b[0;36minplace_predict\u001b[1;34m(self, data, iteration_range, predict_type, missing, validate_features, base_margin, strict_shape)\u001b[0m\n\u001b[0;32m   2267\u001b[0m                 )\n\u001b[0;32m   2268\u001b[0m             \u001b[1;32mif\u001b[0m \u001b[0mlen\u001b[0m\u001b[1;33m(\u001b[0m\u001b[0mdata\u001b[0m\u001b[1;33m.\u001b[0m\u001b[0mshape\u001b[0m\u001b[1;33m)\u001b[0m \u001b[1;33m!=\u001b[0m \u001b[1;36m1\u001b[0m \u001b[1;32mand\u001b[0m \u001b[0mself\u001b[0m\u001b[1;33m.\u001b[0m\u001b[0mnum_features\u001b[0m\u001b[1;33m(\u001b[0m\u001b[1;33m)\u001b[0m \u001b[1;33m!=\u001b[0m \u001b[0mdata\u001b[0m\u001b[1;33m.\u001b[0m\u001b[0mshape\u001b[0m\u001b[1;33m[\u001b[0m\u001b[1;36m1\u001b[0m\u001b[1;33m]\u001b[0m\u001b[1;33m:\u001b[0m\u001b[1;33m\u001b[0m\u001b[1;33m\u001b[0m\u001b[0m\n\u001b[1;32m-> 2269\u001b[1;33m                 raise ValueError(\n\u001b[0m\u001b[0;32m   2270\u001b[0m                     \u001b[1;34mf\"Feature shape mismatch, expected: {self.num_features()}, \"\u001b[0m\u001b[1;33m\u001b[0m\u001b[1;33m\u001b[0m\u001b[0m\n\u001b[0;32m   2271\u001b[0m                     \u001b[1;34mf\"got {data.shape[1]}\"\u001b[0m\u001b[1;33m\u001b[0m\u001b[1;33m\u001b[0m\u001b[0m\n",
      "\u001b[1;31mValueError\u001b[0m: Feature shape mismatch, expected: 21261, got 2"
     ]
    }
   ],
   "source": [
    "#model = load('xgb_clf.joblib')\n",
    "model.predict(X)"
   ]
  },
  {
   "cell_type": "code",
   "execution_count": null,
   "id": "520081cf",
   "metadata": {},
   "outputs": [],
   "source": []
  }
 ],
 "metadata": {
  "kernelspec": {
   "display_name": "Python 3",
   "language": "python",
   "name": "python3"
  },
  "language_info": {
   "codemirror_mode": {
    "name": "ipython",
    "version": 3
   },
   "file_extension": ".py",
   "mimetype": "text/x-python",
   "name": "python",
   "nbconvert_exporter": "python",
   "pygments_lexer": "ipython3",
   "version": "3.8.8"
  }
 },
 "nbformat": 4,
 "nbformat_minor": 5
}
